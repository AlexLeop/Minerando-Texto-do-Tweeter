{
  "nbformat": 4,
  "nbformat_minor": 0,
  "metadata": {
    "colab": {
      "name": "requisição_de_palavras_chaves_no_Tweeter.ipynb",
      "provenance": [],
      "authorship_tag": "ABX9TyNYHgXAkrns6nERIzgqU3gl",
      "include_colab_link": true
    },
    "kernelspec": {
      "name": "python3",
      "display_name": "Python 3"
    },
    "language_info": {
      "name": "python"
    }
  },
  "cells": [
    {
      "cell_type": "markdown",
      "metadata": {
        "id": "view-in-github",
        "colab_type": "text"
      },
      "source": [
        "<a href=\"https://colab.research.google.com/github/AlexLeop/Minerando-Texto-do-Tweeter/blob/main/requisi%C3%A7%C3%A3o_de_palavras_chaves_no_Tweeter.ipynb\" target=\"_parent\"><img src=\"https://colab.research.google.com/assets/colab-badge.svg\" alt=\"Open In Colab\"/></a>"
      ]
    },
    {
      "cell_type": "markdown",
      "metadata": {
        "id": "DGq_LFxA4Tqy"
      },
      "source": [
        "### **CONECTANDO E EXTRAINDO DADOS DO TWITTER**"
      ]
    },
    {
      "cell_type": "code",
      "metadata": {
        "id": "k4wkWHl54fTY"
      },
      "source": [
        "#bibliotecas necessárias\n",
        "import json\n",
        "from tweepy import OAuthHandler, Stream, StreamListener\n",
        "from datetime import datetime"
      ],
      "execution_count": null,
      "outputs": []
    },
    {
      "cell_type": "markdown",
      "metadata": {
        "id": "4IW126Mi4pEk"
      },
      "source": [
        "**CADASTRANDO CHAVES DE ACESSO**"
      ]
    },
    {
      "cell_type": "code",
      "metadata": {
        "id": "9ieCTJzn4hvw"
      },
      "source": [
        "consumer_key = \"HspCIea2zSlJG9GChiPBPhv3V\"\n",
        "consumer_secret = \"OVXFgJkWbCweMR1rrLXFyE8KPQR6omqgRf16HF83SmBi5OVpCg\"\n",
        "\n",
        "access_token = \"1441119614956539909-jI6FUmqU6qngVeuZiNFUHzee5wL7Ge\"\n",
        "access_token_secret = \"YM0Gd25Y3MMeok2q7wGinXBpGDHUqzDCCMLaMAJ6GtK7i\""
      ],
      "execution_count": null,
      "outputs": []
    },
    {
      "cell_type": "markdown",
      "metadata": {
        "id": "QSVU37UC41mI"
      },
      "source": [
        "**DEFININDO ARQUIVO DE SAÍDA PARA ARMAZENAR TWEETS COLETADOS**"
      ]
    },
    {
      "cell_type": "code",
      "metadata": {
        "id": "MQWLR3Ru4wfZ"
      },
      "source": [
        "data_hoje = datetime.now().strftime(\"%y-%m-%d-%H-%M-%S\")\n",
        "out = open(f\"collected_tweets_{data_hoje}.txt\", \"w\")"
      ],
      "execution_count": null,
      "outputs": []
    },
    {
      "cell_type": "markdown",
      "metadata": {
        "id": "2O7WQqZO6AVQ"
      },
      "source": [
        "**IMPLEMENTANDO UMA CLASSE PARA CONECÇÃO COM O TWITTER**"
      ]
    },
    {
      "cell_type": "code",
      "metadata": {
        "id": "eGM379be5GZh"
      },
      "source": [
        "class MyListener(StreamListener):\n",
        "    def on_data(self, data):\n",
        "        itemString = json.dumps(data)\n",
        "        out.write(itemString + \" \\n\")\n",
        "        return True\n",
        "    def on_error(self, status):\n",
        "        print(status)"
      ],
      "execution_count": null,
      "outputs": []
    },
    {
      "cell_type": "markdown",
      "metadata": {
        "id": "nh6CMKnZ6PqW"
      },
      "source": [
        "**IMPLEMENTANDO FUNÇÃO MAIN**"
      ]
    },
    {
      "cell_type": "code",
      "metadata": {
        "id": "m4neQAHX6L7N"
      },
      "source": [
        "if __name__== \"__main__\":\n",
        "    l = MyListener()\n",
        "    auth = OAuthHandler(consumer_key, consumer_secret)\n",
        "    auth.set_access_token(access_token, access_token_secret)\n",
        "    \n",
        "    stream = Stream(auth,l)\n",
        "    stream.filter(track=[\"Trump\"])"
      ],
      "execution_count": null,
      "outputs": []
    },
    {
      "cell_type": "markdown",
      "metadata": {
        "id": "Q3ZrcaK19dQ4"
      },
      "source": [
        "**REALIZANDO A LEITURA DA ESTRUTURA DE DADOS JASON**"
      ]
    },
    {
      "cell_type": "code",
      "metadata": {
        "id": "ou4VL4gP6UJ0"
      },
      "source": [
        "#Abrindo o arquivo dos Tweets e lendo as linhas\n",
        "with open(\"/content/collected_tweets_21-11-24-02-56-48.txt\", \"r\") as file:\n",
        "    tweets = file.readlines()"
      ],
      "execution_count": null,
      "outputs": []
    },
    {
      "cell_type": "markdown",
      "metadata": {
        "id": "fAadtVGGGqmK"
      },
      "source": [
        "**FAZENDO PARSE DO TWITTER PARA UM FORMATO JSON E EXPORTANDO ARQUIVO**"
      ]
    },
    {
      "cell_type": "code",
      "metadata": {
        "id": "9umD9HUn-pXi"
      },
      "source": [
        "#Testando e visualizando o parse da primeira linha de dados do twitter em formato JSON\n",
        "with open(\"tweets.json\", \"w\", encoding=\"utf-8\") as f:\n",
        "\n",
        "    json.dump(json.loads(json.loads(tweets[0])),f)\n",
        " "
      ],
      "execution_count": null,
      "outputs": []
    },
    {
      "cell_type": "markdown",
      "metadata": {
        "id": "ne1lvuc6MftT"
      },
      "source": [
        "Extecutando o parse em todos os dados do Twitter de uma unica vez"
      ]
    },
    {
      "cell_type": "code",
      "metadata": {
        "id": "vCIR22TrIC6c"
      },
      "source": [
        "parse_tweets = [json.loads(json.loads(i)) for i in tweets]"
      ],
      "execution_count": null,
      "outputs": []
    },
    {
      "cell_type": "markdown",
      "metadata": {
        "id": "7J0nUHj4Nn4a"
      },
      "source": [
        "QUANTIDADES DE TWEETS COLETADOS"
      ]
    },
    {
      "cell_type": "code",
      "metadata": {
        "colab": {
          "base_uri": "https://localhost:8080/"
        },
        "id": "XhhpnUV0NUmS",
        "outputId": "eaee03f8-46a8-4074-c714-b0566970c55b"
      },
      "source": [
        "len(parse_tweets)"
      ],
      "execution_count": null,
      "outputs": [
        {
          "output_type": "execute_result",
          "data": {
            "text/plain": [
              "912"
            ]
          },
          "metadata": {},
          "execution_count": 60
        }
      ]
    },
    {
      "cell_type": "markdown",
      "metadata": {
        "id": "RGuTH5TnS6GT"
      },
      "source": [
        "# **LIMPEZ E ORGANIZAÇÃO DOS DADOS DO TWITTER**"
      ]
    },
    {
      "cell_type": "markdown",
      "metadata": {
        "id": "1_hRq7yaTypx"
      },
      "source": [
        "**TRANSFORMANDO OS DADOS DO TWITTER EM UM FORMATO RELACIONAL PARA SUBMETER À ANALISES**"
      ]
    },
    {
      "cell_type": "code",
      "metadata": {
        "id": "YVKJ-qBuN00I"
      },
      "source": [
        "#Importando bibliotecas necessárias\n",
        "import pandas as pd"
      ],
      "execution_count": null,
      "outputs": []
    },
    {
      "cell_type": "code",
      "metadata": {
        "id": "Dc-VPZ3za69S"
      },
      "source": [
        "def tweet_para_df(tweet):\n",
        "    try:\n",
        "        df_tratado = pd.DataFrame(tweet).reset_index(drop = True).iloc[:1]\n",
        "        df_tratado.drop(columns = ['quote_count','reply_count','retweet_count','favorite_count','favorited','retweeted','user','entities','retweeted_status'], inplace = True)\n",
        "\n",
        "        df_tratado['user_id']               = tweet['user']['id']\n",
        "        df_tratado['user_id_str']           = tweet['user']['id_str']\n",
        "        df_tratado['user_screen_name']      = tweet['user']['screen_name']\n",
        "        df_tratado['user_location']         = tweet['user']['location']\n",
        "        df_tratado['user_description']      = tweet['user']['description']\n",
        "        df_tratado['user_protected']        = tweet['user']['protected']\n",
        "        df_tratado['user_verified']         = tweet['user']['verified']\n",
        "        df_tratado['user_followers_count']  = tweet['user']['followers_count']\n",
        "        df_tratado['user_friends_count']    = tweet['user']['friends_count']\n",
        "        df_tratado['user_created_at']       = tweet['user']['created_at']\n",
        "\n",
        "        user_mentions = []\n",
        "        \n",
        "        for i in range(len(tweet['entities']['user_mentions'])):\n",
        "            dicionariobase = tweet['entities']['user_mentions'][i].copy()\n",
        "            dicionariobase.pop('indices',None)\n",
        "            df = pd.DataFrame(dicionariobase, index=[0])\n",
        "            df = df.rename(columns = {\n",
        "                'screen_name'   : 'entities_screen_name',\n",
        "                'name'          : 'entities_name',\n",
        "                'id'            : 'entities_id',\n",
        "                'id_str'        : 'entities_id_str'\n",
        "            })\n",
        "            user_mentions.append(df)\n",
        "        dfs = []\n",
        "        for i in user_mentions:\n",
        "            dfs.append(pd.concat([df_tratado.copy(), i ], axis=1))\n",
        "        df_final = pd.concat(dfs, ignore_index = True)\n",
        "    except:\n",
        "        return None\n",
        "    return df_final"
      ],
      "execution_count": null,
      "outputs": []
    },
    {
      "cell_type": "code",
      "metadata": {
        "id": "F2Xug-Fn8d9g"
      },
      "source": [
        "tweets.index(parse_tweets[0])"
      ],
      "execution_count": null,
      "outputs": []
    }
  ]
}